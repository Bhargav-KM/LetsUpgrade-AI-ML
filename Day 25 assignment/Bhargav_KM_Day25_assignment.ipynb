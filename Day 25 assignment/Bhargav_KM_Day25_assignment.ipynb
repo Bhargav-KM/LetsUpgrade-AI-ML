{
 "cells": [
  {
   "cell_type": "markdown",
   "metadata": {},
   "source": [
    "#                                             Day-25 assignment :-"
   ]
  },
  {
   "cell_type": "code",
   "execution_count": 1,
   "metadata": {},
   "outputs": [],
   "source": [
    "import pandas as pd\n",
    "\n",
    "from sklearn import preprocessing\n",
    "lab_enco = preprocessing.LabelEncoder()\n",
    "\n",
    "from sklearn.model_selection import train_test_split\n",
    "from sklearn.metrics import accuracy_score\n",
    "from sklearn.metrics import confusion_matrix\n",
    "\n",
    "from sklearn.naive_bayes import *\n",
    "clff = BernoulliNB()"
   ]
  },
  {
   "cell_type": "code",
   "execution_count": 10,
   "metadata": {},
   "outputs": [
    {
     "data": {
      "text/html": [
       "<div>\n",
       "<style scoped>\n",
       "    .dataframe tbody tr th:only-of-type {\n",
       "        vertical-align: middle;\n",
       "    }\n",
       "\n",
       "    .dataframe tbody tr th {\n",
       "        vertical-align: top;\n",
       "    }\n",
       "\n",
       "    .dataframe thead th {\n",
       "        text-align: right;\n",
       "    }\n",
       "</style>\n",
       "<table border=\"1\" class=\"dataframe\">\n",
       "  <thead>\n",
       "    <tr style=\"text-align: right;\">\n",
       "      <th></th>\n",
       "      <th>Survived</th>\n",
       "      <th>Pclass</th>\n",
       "      <th>Sex</th>\n",
       "      <th>Age</th>\n",
       "      <th>SibSp</th>\n",
       "      <th>Parch</th>\n",
       "      <th>Fare</th>\n",
       "      <th>Embarked</th>\n",
       "    </tr>\n",
       "  </thead>\n",
       "  <tbody>\n",
       "    <tr>\n",
       "      <th>0</th>\n",
       "      <td>0</td>\n",
       "      <td>3</td>\n",
       "      <td>1</td>\n",
       "      <td>22.0</td>\n",
       "      <td>1</td>\n",
       "      <td>0</td>\n",
       "      <td>7.2500</td>\n",
       "      <td>2</td>\n",
       "    </tr>\n",
       "    <tr>\n",
       "      <th>1</th>\n",
       "      <td>1</td>\n",
       "      <td>1</td>\n",
       "      <td>0</td>\n",
       "      <td>38.0</td>\n",
       "      <td>1</td>\n",
       "      <td>0</td>\n",
       "      <td>71.2833</td>\n",
       "      <td>0</td>\n",
       "    </tr>\n",
       "  </tbody>\n",
       "</table>\n",
       "</div>"
      ],
      "text/plain": [
       "   Survived  Pclass  Sex   Age  SibSp  Parch     Fare  Embarked\n",
       "0         0       3    1  22.0      1      0   7.2500         2\n",
       "1         1       1    0  38.0      1      0  71.2833         0"
      ]
     },
     "execution_count": 10,
     "metadata": {},
     "output_type": "execute_result"
    }
   ],
   "source": [
    "data = pd.read_csv(\"train.csv\")\n",
    "data = data.drop(['PassengerId','Name','Cabin','Ticket'],axis=1)\n",
    "data['Sex'] = lab_enco.fit_transform(data['Sex'])\n",
    "data['Embarked'] = lab_enco.fit_transform(data['Embarked'])\n",
    "data.head(2)"
   ]
  },
  {
   "cell_type": "markdown",
   "metadata": {},
   "source": [
    "### ------------------------------------------------------------------------------------------------------------------------------------------------------------"
   ]
  },
  {
   "cell_type": "markdown",
   "metadata": {},
   "source": [
    "### Function to find accuracy and confusion matrix :-"
   ]
  },
  {
   "cell_type": "code",
   "execution_count": 3,
   "metadata": {},
   "outputs": [],
   "source": [
    "def Nav_bays(X,y):\n",
    "    X_train,X_test,y_train,y_test = train_test_split(X,y,test_size=0.3,random_state = 0)\n",
    "    y_pred = clff.fit(X_train,y_train).predict(X_test)\n",
    "    acc_score = accuracy_score(y_test,y_pred,normalize=True)\n",
    "    con_mat = confusion_matrix(y_test,y_pred)\n",
    "    return acc_score,con_mat"
   ]
  },
  {
   "cell_type": "code",
   "execution_count": 17,
   "metadata": {},
   "outputs": [
    {
     "name": "stdout",
     "output_type": "stream",
     "text": [
      "_____________________________________________________________________________________________________\n",
      "   Pclass   vs  Remmaining :-\n",
      "_____________________________________________________________________________________________________\n",
      "\n",
      "Accuracy Score for Pclass vs Remmaining  =  59.176029962546814 %\n",
      "\n",
      "And Confusion Matrix is :-\n",
      "[[ 30   8  32]\n",
      " [  9  10  30]\n",
      " [ 24   6 118]] \n",
      "\n",
      "\n",
      "_____________________________________________________________________________________________________\n",
      "   SibSp   vs  Remmaining :-\n",
      "_____________________________________________________________________________________________________\n",
      "\n",
      "Accuracy Score for SibSp vs Remmaining  =  68.91385767790263 %\n",
      "\n",
      "And Confusion Matrix is :-\n",
      "[[162  20   0   0   0   0   0]\n",
      " [ 43  22   0   0   0   0   0]\n",
      " [  6   2   0   0   0   0   0]\n",
      " [  5   2   0   0   0   0   0]\n",
      " [  2   0   0   0   0   0   0]\n",
      " [  1   0   0   0   0   0   0]\n",
      " [  2   0   0   0   0   0   0]] \n",
      "\n",
      "\n",
      "_____________________________________________________________________________________________________\n",
      "   Sex   vs  Remmaining :-\n",
      "_____________________________________________________________________________________________________\n",
      "\n",
      "Accuracy Score for Sex vs Remmaining  =  74.53183520599251 %\n",
      "\n",
      "And Confusion Matrix is :-\n",
      "[[ 49  49]\n",
      " [ 19 150]] \n",
      "\n",
      "\n",
      "_____________________________________________________________________________________________________\n",
      "   Parch   vs  Remmaining :-\n",
      "_____________________________________________________________________________________________________\n",
      "\n",
      "Accuracy Score for Parch vs Remmaining  =  71.53558052434457 %\n",
      "\n",
      "And Confusion Matrix is :-\n",
      "[[182  16   0   0   0]\n",
      " [ 31   9   0   0   0]\n",
      " [ 24   3   0   0   0]\n",
      " [  1   0   0   0   0]\n",
      " [  1   0   0   0   0]] \n",
      "\n",
      "\n",
      "_____________________________________________________________________________________________________\n",
      "   Embarked   vs  Remmaining :-\n",
      "_____________________________________________________________________________________________________\n",
      "\n",
      "Accuracy Score for Embarked vs Remmaining  =  73.40823970037454 %\n",
      "\n",
      "And Confusion Matrix is :-\n",
      "[[  0   0  49]\n",
      " [  0   0  22]\n",
      " [  0   0 196]] \n",
      "\n",
      "\n"
     ]
    }
   ],
   "source": [
    "depVars = ['Pclass','SibSp','Sex', 'Parch','Embarked']\n",
    "for i in depVars:\n",
    "    print(\"_____________________________________________________________________________________________________\")\n",
    "    print(\"  \",i,\"  vs  Remmaining :-\")\n",
    "    print(\"_____________________________________________________________________________________________________\\n\")\n",
    "    y = data[i]\n",
    "    X = data.drop(i,axis=1)\n",
    "    Score,Matrix =  Nav_bays(X,y)\n",
    "    print(\"Accuracy Score for\", i ,\"vs Remmaining  = \",Score*100,\"%\\n\")\n",
    "    print(\"And Confusion Matrix is :-\")\n",
    "    print(Matrix,\"\\n\\n\")"
   ]
  },
  {
   "cell_type": "markdown",
   "metadata": {},
   "source": [
    "# ---------------------------------------------------------------------------------------------------------------"
   ]
  },
  {
   "cell_type": "code",
   "execution_count": null,
   "metadata": {},
   "outputs": [],
   "source": []
  }
 ],
 "metadata": {
  "kernelspec": {
   "display_name": "Python 3",
   "language": "python",
   "name": "python3"
  },
  "language_info": {
   "codemirror_mode": {
    "name": "ipython",
    "version": 3
   },
   "file_extension": ".py",
   "mimetype": "text/x-python",
   "name": "python",
   "nbconvert_exporter": "python",
   "pygments_lexer": "ipython3",
   "version": "3.7.6"
  }
 },
 "nbformat": 4,
 "nbformat_minor": 4
}
