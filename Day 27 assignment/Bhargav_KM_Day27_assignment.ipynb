{
 "cells": [
  {
   "cell_type": "markdown",
   "metadata": {},
   "source": [
    "# Day-27 Assignment :"
   ]
  },
  {
   "cell_type": "code",
   "execution_count": 1,
   "metadata": {},
   "outputs": [],
   "source": [
    "import pandas as pd\n",
    "\n",
    "from sklearn import preprocessing\n",
    "lab_enco = preprocessing.LabelEncoder()\n",
    "\n",
    "from sklearn.model_selection import train_test_split\n",
    "from sklearn.metrics import accuracy_score\n",
    "from sklearn.metrics import confusion_matrix\n",
    "\n",
    "from sklearn import neighbors\n",
    "from sklearn import svm"
   ]
  },
  {
   "cell_type": "code",
   "execution_count": 2,
   "metadata": {},
   "outputs": [
    {
     "data": {
      "text/html": [
       "<div>\n",
       "<style scoped>\n",
       "    .dataframe tbody tr th:only-of-type {\n",
       "        vertical-align: middle;\n",
       "    }\n",
       "\n",
       "    .dataframe tbody tr th {\n",
       "        vertical-align: top;\n",
       "    }\n",
       "\n",
       "    .dataframe thead th {\n",
       "        text-align: right;\n",
       "    }\n",
       "</style>\n",
       "<table border=\"1\" class=\"dataframe\">\n",
       "  <thead>\n",
       "    <tr style=\"text-align: right;\">\n",
       "      <th></th>\n",
       "      <th>Survived</th>\n",
       "      <th>Pclass</th>\n",
       "      <th>Sex</th>\n",
       "      <th>Age</th>\n",
       "      <th>SibSp</th>\n",
       "      <th>Parch</th>\n",
       "      <th>Fare</th>\n",
       "      <th>Embarked</th>\n",
       "    </tr>\n",
       "  </thead>\n",
       "  <tbody>\n",
       "    <tr>\n",
       "      <th>0</th>\n",
       "      <td>0</td>\n",
       "      <td>3</td>\n",
       "      <td>1</td>\n",
       "      <td>22.0</td>\n",
       "      <td>1</td>\n",
       "      <td>0</td>\n",
       "      <td>7.2500</td>\n",
       "      <td>2</td>\n",
       "    </tr>\n",
       "    <tr>\n",
       "      <th>1</th>\n",
       "      <td>1</td>\n",
       "      <td>1</td>\n",
       "      <td>0</td>\n",
       "      <td>38.0</td>\n",
       "      <td>1</td>\n",
       "      <td>0</td>\n",
       "      <td>71.2833</td>\n",
       "      <td>0</td>\n",
       "    </tr>\n",
       "  </tbody>\n",
       "</table>\n",
       "</div>"
      ],
      "text/plain": [
       "   Survived  Pclass  Sex   Age  SibSp  Parch     Fare  Embarked\n",
       "0         0       3    1  22.0      1      0   7.2500         2\n",
       "1         1       1    0  38.0      1      0  71.2833         0"
      ]
     },
     "execution_count": 2,
     "metadata": {},
     "output_type": "execute_result"
    }
   ],
   "source": [
    "data = pd.read_csv(\"train.csv\")\n",
    "data = data.drop(['PassengerId','Name','Cabin','Ticket'],axis=1)\n",
    "data['Sex'] = lab_enco.fit_transform(data['Sex'])\n",
    "data['Embarked'] = lab_enco.fit_transform(data['Embarked'])\n",
    "data.head(2)"
   ]
  },
  {
   "cell_type": "markdown",
   "metadata": {},
   "source": [
    "# Question-1 :-"
   ]
  },
  {
   "cell_type": "markdown",
   "metadata": {},
   "source": [
    "#### Function:"
   ]
  },
  {
   "cell_type": "code",
   "execution_count": 3,
   "metadata": {},
   "outputs": [],
   "source": [
    "def Knn(k,X,y):\n",
    "    knn = neighbors.KNeighborsClassifier(n_neighbors=k)\n",
    "    Score = knn.fit(X_train,y_train).score(X_test,y_test)\n",
    "    return Score"
   ]
  },
  {
   "cell_type": "code",
   "execution_count": 4,
   "metadata": {},
   "outputs": [
    {
     "name": "stdout",
     "output_type": "stream",
     "text": [
      "\n",
      "Highest Accuracy =  89.13857677902621 %  and it is when  k = 1 \n",
      "\n",
      "and Confusion matrix is :\n",
      "[[ 62   6   2]\n",
      " [  3  37   9]\n",
      " [  1   8 139]] \n",
      "\n",
      "\n"
     ]
    }
   ],
   "source": [
    "y = data['Pclass']\n",
    "X = data.drop(['Pclass'],axis=1)\n",
    "X_train,X_test,y_train,y_test = train_test_split(X,y,test_size=0.3,random_state = 0)\n",
    "k_value = 0\n",
    "High_acc_Score = 0\n",
    "for i in range(1,268):\n",
    "    present_score = Knn(i,X,y)\n",
    "    if(k_value == 0):\n",
    "        k_value = i\n",
    "        High_acc_Score = present_score\n",
    "    if(present_score > High_acc_Score):\n",
    "        k_value = i\n",
    "        High_acc_Score = present_score\n",
    "\n",
    "        \n",
    "kn = neighbors.KNeighborsClassifier(n_neighbors=k_value)\n",
    "y_pred = kn.fit(X_train,y_train).predict(X_test)\n",
    "mat = confusion_matrix(y_test,y_pred)\n",
    "print(\"\\nHighest Accuracy = \",High_acc_Score*100,\"%  and it is when  k =\",k_value,\"\\n\")\n",
    "print(\"and Confusion matrix is :\")\n",
    "print(mat,\"\\n\\n\")\n",
    "\n"
   ]
  },
  {
   "cell_type": "markdown",
   "metadata": {},
   "source": [
    "# Question-2 :-"
   ]
  },
  {
   "cell_type": "code",
   "execution_count": 5,
   "metadata": {},
   "outputs": [],
   "source": [
    "clff = svm.SVC(gamma=0.01,C=100)"
   ]
  },
  {
   "cell_type": "code",
   "execution_count": 6,
   "metadata": {},
   "outputs": [],
   "source": [
    "def Svm(X,y):\n",
    "    X_train,X_test,y_train,y_test = train_test_split(X,y,test_size=0.3,random_state = 0)\n",
    "    y_pred = clff.fit(X_train,y_train).predict(X_test)\n",
    "    acc_score = accuracy_score(y_test,y_pred,normalize=True)\n",
    "    conf_mat = confusion_matrix(y_test,y_pred)\n",
    "    return acc_score,conf_mat"
   ]
  },
  {
   "cell_type": "code",
   "execution_count": 7,
   "metadata": {},
   "outputs": [
    {
     "name": "stdout",
     "output_type": "stream",
     "text": [
      "_____________________________________________________________________________________________________\n",
      "   Survived   vs  Remmaining :-\n",
      "_____________________________________________________________________________________________________\n",
      "\n",
      "Accuracy Score for Survived vs Remmaining  =  74.15730337078652 %\n",
      "\n",
      "And Confusion Matrix is :-\n",
      "[[124  33]\n",
      " [ 36  74]] \n",
      "\n",
      "\n",
      "_____________________________________________________________________________________________________\n",
      "   Pclass   vs  Remmaining :-\n",
      "_____________________________________________________________________________________________________\n",
      "\n",
      "Accuracy Score for Pclass vs Remmaining  =  90.2621722846442 %\n",
      "\n",
      "And Confusion Matrix is :-\n",
      "[[ 64   4   2]\n",
      " [  4  36   9]\n",
      " [  1   6 141]] \n",
      "\n",
      "\n",
      "_____________________________________________________________________________________________________\n",
      "   SibSp   vs  Remmaining :-\n",
      "_____________________________________________________________________________________________________\n",
      "\n",
      "Accuracy Score for SibSp vs Remmaining  =  74.90636704119851 %\n",
      "\n",
      "And Confusion Matrix is :-\n",
      "[[150  24   7   0   1   0   0]\n",
      " [ 21  39   5   0   0   0   0]\n",
      " [  4   1   3   0   0   0   0]\n",
      " [  0   2   1   3   1   0   0]\n",
      " [  0   0   0   0   2   0   0]\n",
      " [  0   0   0   0   0   1   0]\n",
      " [  0   0   0   0   0   0   2]] \n",
      "\n",
      "\n",
      "_____________________________________________________________________________________________________\n",
      "   Sex   vs  Remmaining :-\n",
      "_____________________________________________________________________________________________________\n",
      "\n",
      "Accuracy Score for Sex vs Remmaining  =  72.65917602996255 %\n",
      "\n",
      "And Confusion Matrix is :-\n",
      "[[ 66  32]\n",
      " [ 41 128]] \n",
      "\n",
      "\n",
      "_____________________________________________________________________________________________________\n",
      "   Parch   vs  Remmaining :-\n",
      "_____________________________________________________________________________________________________\n",
      "\n",
      "Accuracy Score for Parch vs Remmaining  =  79.7752808988764 %\n",
      "\n",
      "And Confusion Matrix is :-\n",
      "[[187   6   5   0   0   0]\n",
      " [ 21  15   3   0   0   1]\n",
      " [ 10   6  11   0   0   0]\n",
      " [  0   0   1   0   0   0]\n",
      " [  1   0   0   0   0   0]\n",
      " [  0   0   0   0   0   0]] \n",
      "\n",
      "\n",
      "_____________________________________________________________________________________________________\n",
      "   Embarked   vs  Remmaining :-\n",
      "_____________________________________________________________________________________________________\n",
      "\n",
      "Accuracy Score for Embarked vs Remmaining  =  76.77902621722846 %\n",
      "\n",
      "And Confusion Matrix is :-\n",
      "[[ 23   2  24]\n",
      " [  0   8  14]\n",
      " [ 18   4 174]] \n",
      "\n",
      "\n"
     ]
    }
   ],
   "source": [
    "depVars = ['Survived','Pclass','SibSp','Sex','Parch','Embarked']\n",
    "for i in depVars:\n",
    "    print(\"_____________________________________________________________________________________________________\")\n",
    "    print(\"  \",i,\"  vs  Remmaining :-\")\n",
    "    print(\"_____________________________________________________________________________________________________\\n\")\n",
    "    y = data[i]\n",
    "    X = data.drop(i,axis=1)\n",
    "    Score,Matrix =  Svm(X,y)\n",
    "    print(\"Accuracy Score for\", i ,\"vs Remmaining  = \",Score*100,\"%\\n\")\n",
    "    print(\"And Confusion Matrix is :-\")\n",
    "    print(Matrix,\"\\n\\n\")"
   ]
  },
  {
   "cell_type": "markdown",
   "metadata": {},
   "source": [
    "### Pclass vs Remmaining combination has the highest Accuracy percentage i.e 90.26%"
   ]
  },
  {
   "cell_type": "markdown",
   "metadata": {},
   "source": [
    "## --------------------------------------------------------------------------------------------------------------------"
   ]
  },
  {
   "cell_type": "code",
   "execution_count": null,
   "metadata": {},
   "outputs": [],
   "source": []
  }
 ],
 "metadata": {
  "kernelspec": {
   "display_name": "Python 3",
   "language": "python",
   "name": "python3"
  },
  "language_info": {
   "codemirror_mode": {
    "name": "ipython",
    "version": 3
   },
   "file_extension": ".py",
   "mimetype": "text/x-python",
   "name": "python",
   "nbconvert_exporter": "python",
   "pygments_lexer": "ipython3",
   "version": "3.7.6"
  }
 },
 "nbformat": 4,
 "nbformat_minor": 4
}
