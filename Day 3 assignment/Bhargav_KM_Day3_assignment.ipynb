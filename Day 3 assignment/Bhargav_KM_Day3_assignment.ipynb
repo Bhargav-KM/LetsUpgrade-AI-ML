{
 "cells": [
  {
   "cell_type": "markdown",
   "metadata": {},
   "source": [
    "# Day 3 assignments :-"
   ]
  },
  {
   "cell_type": "markdown",
   "metadata": {},
   "source": [
    "## Question-1 :"
   ]
  },
  {
   "cell_type": "code",
   "execution_count": 2,
   "metadata": {},
   "outputs": [
    {
     "name": "stdout",
     "output_type": "stream",
     "text": [
      "(2+8j)\n"
     ]
    }
   ],
   "source": [
    "num1 = 10 + 5j\n",
    "num2 = 8 - 3j\n",
    "result = num1 - num2\n",
    "print(result)"
   ]
  },
  {
   "cell_type": "markdown",
   "metadata": {},
   "source": [
    "## Question-2 :"
   ]
  },
  {
   "cell_type": "code",
   "execution_count": 29,
   "metadata": {},
   "outputs": [
    {
     "name": "stdout",
     "output_type": "stream",
     "text": [
      "4.0\n"
     ]
    }
   ],
   "source": [
    "z = 256\n",
    "import math\n",
    "print(math.sqrt(math.sqrt(z)))"
   ]
  },
  {
   "cell_type": "markdown",
   "metadata": {},
   "source": [
    "## Question-3 :"
   ]
  },
  {
   "cell_type": "code",
   "execution_count": 18,
   "metadata": {},
   "outputs": [
    {
     "name": "stdout",
     "output_type": "stream",
     "text": [
      "Before Swapping:\n",
      "NUM1 = 100 \n",
      "NUM2 = 200 \n",
      "\n",
      "After Swapping:\n",
      "NUM1 = 200 \n",
      "NUM2 = 100\n"
     ]
    }
   ],
   "source": [
    "NUM1 = 100\n",
    "NUM2 = 200\n",
    "print(\"Before Swapping:\\nNUM1 =\",NUM1,\"\\nNUM2 =\",NUM2,\"\\n\")\n",
    "temp = NUM1\n",
    "NUM1 = NUM2\n",
    "NUM2 = temp\n",
    "print(\"After Swapping:\\nNUM1 =\",NUM1,\"\\nNUM2 =\",NUM2)"
   ]
  },
  {
   "cell_type": "markdown",
   "metadata": {},
   "source": [
    "## Question-4 :"
   ]
  },
  {
   "cell_type": "code",
   "execution_count": 22,
   "metadata": {},
   "outputs": [
    {
     "name": "stdout",
     "output_type": "stream",
     "text": [
      "Before Swapping:\n",
      "Num1 = 500 \n",
      "Num2 = 1000 \n",
      "\n",
      "After Swapping:\n",
      "Num1 = 1000 \n",
      "Num2 = 500\n"
     ]
    }
   ],
   "source": [
    "Num1 = 500\n",
    "Num2 = 1000\n",
    "print(\"Before Swapping:\\nNum1 =\",Num1,\"\\nNum2 =\",Num2,\"\\n\")\n",
    "Num1 = Num1 + Num2\n",
    "Num2 = Num1 - Num2\n",
    "Num1 = Num1 - Num2\n",
    "print(\"After Swapping:\\nNum1 =\",Num1,\"\\nNum2 =\",Num2)"
   ]
  },
  {
   "cell_type": "markdown",
   "metadata": {},
   "source": [
    "## Question-5 :"
   ]
  },
  {
   "cell_type": "code",
   "execution_count": 28,
   "metadata": {},
   "outputs": [
    {
     "name": "stdout",
     "output_type": "stream",
     "text": [
      "In fahrenheit : 98.6 deg F\n",
      "In Kelvin     : 310.15 K\n",
      "In Celsius    : 37.0 deg C\n"
     ]
    }
   ],
   "source": [
    "far = 98.6\n",
    "kel = (far - 32) * (5/9) + 273.15\n",
    "cel = (far - 32) * (5/9) \n",
    "print(\"In fahrenheit :\",far,\"deg F\")\n",
    "print(\"In Kelvin     :\",kel,\"K\")\n",
    "print(\"In Celsius    :\",cel,\"deg C\")"
   ]
  },
  {
   "cell_type": "markdown",
   "metadata": {},
   "source": [
    "## Question-6 :"
   ]
  },
  {
   "cell_type": "code",
   "execution_count": 30,
   "metadata": {},
   "outputs": [
    {
     "data": {
      "text/plain": [
       "int"
      ]
     },
     "execution_count": 30,
     "metadata": {},
     "output_type": "execute_result"
    }
   ],
   "source": [
    "a = 10\n",
    "type(a)"
   ]
  },
  {
   "cell_type": "code",
   "execution_count": 31,
   "metadata": {},
   "outputs": [
    {
     "data": {
      "text/plain": [
       "float"
      ]
     },
     "execution_count": 31,
     "metadata": {},
     "output_type": "execute_result"
    }
   ],
   "source": [
    "b = 10.0\n",
    "type(b)"
   ]
  },
  {
   "cell_type": "code",
   "execution_count": 32,
   "metadata": {},
   "outputs": [
    {
     "data": {
      "text/plain": [
       "str"
      ]
     },
     "execution_count": 32,
     "metadata": {},
     "output_type": "execute_result"
    }
   ],
   "source": [
    "c = \"I am learning\"\n",
    "type(c)"
   ]
  },
  {
   "cell_type": "code",
   "execution_count": 35,
   "metadata": {},
   "outputs": [
    {
     "data": {
      "text/plain": [
       "complex"
      ]
     },
     "execution_count": 35,
     "metadata": {},
     "output_type": "execute_result"
    }
   ],
   "source": [
    "d = 10 + 5j\n",
    "type(d)"
   ]
  },
  {
   "cell_type": "code",
   "execution_count": 38,
   "metadata": {},
   "outputs": [
    {
     "data": {
      "text/plain": [
       "list"
      ]
     },
     "execution_count": 38,
     "metadata": {},
     "output_type": "execute_result"
    }
   ],
   "source": [
    "e = [1,2]\n",
    "type(e)"
   ]
  },
  {
   "cell_type": "code",
   "execution_count": 43,
   "metadata": {},
   "outputs": [
    {
     "data": {
      "text/plain": [
       "dict"
      ]
     },
     "execution_count": 43,
     "metadata": {},
     "output_type": "execute_result"
    }
   ],
   "source": [
    "f = {\"Name\":\"Bhargav\",\"Age\":20}\n",
    "type(f)"
   ]
  },
  {
   "cell_type": "code",
   "execution_count": 44,
   "metadata": {},
   "outputs": [
    {
     "data": {
      "text/plain": [
       "tuple"
      ]
     },
     "execution_count": 44,
     "metadata": {},
     "output_type": "execute_result"
    }
   ],
   "source": [
    "g = (\"Dog\",25,37)\n",
    "type(g)"
   ]
  },
  {
   "cell_type": "code",
   "execution_count": 45,
   "metadata": {},
   "outputs": [
    {
     "data": {
      "text/plain": [
       "set"
      ]
     },
     "execution_count": 45,
     "metadata": {},
     "output_type": "execute_result"
    }
   ],
   "source": [
    "h = {200,\"Mac\",\"Windows\"}\n",
    "type(h)"
   ]
  },
  {
   "cell_type": "markdown",
   "metadata": {},
   "source": [
    "## Question-7 :"
   ]
  },
  {
   "cell_type": "markdown",
   "metadata": {},
   "source": [
    "step1 : Sign up to github.    \n",
    "step2 : Create a Public Repository naming it as 'LetsUpgrade AI/ML'.         \n",
    "step3 : Then upload the downloaded .ipynb folder to the repo in day wise manner.          \n",
    "step4 : Share the Assignment folder link in Assignment submission form.          \n"
   ]
  }
 ],
 "metadata": {
  "kernelspec": {
   "display_name": "Python 3",
   "language": "python",
   "name": "python3"
  },
  "language_info": {
   "codemirror_mode": {
    "name": "ipython",
    "version": 3
   },
   "file_extension": ".py",
   "mimetype": "text/x-python",
   "name": "python",
   "nbconvert_exporter": "python",
   "pygments_lexer": "ipython3",
   "version": "3.7.6"
  }
 },
 "nbformat": 4,
 "nbformat_minor": 4
}
