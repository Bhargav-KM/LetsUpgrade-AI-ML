{
 "cells": [
  {
   "cell_type": "markdown",
   "metadata": {},
   "source": [
    "# Day-6 Assignment:-"
   ]
  },
  {
   "cell_type": "markdown",
   "metadata": {},
   "source": [
    "## Question-1 :"
   ]
  },
  {
   "cell_type": "code",
   "execution_count": 3,
   "metadata": {},
   "outputs": [],
   "source": [
    "def company(z,st):\n",
    "    print(\"Company name: \",end=\"\")\n",
    "    while st[z] != \".\":\n",
    "        print(st[z],end=\"\")\n",
    "        z += 1\n",
    "    "
   ]
  },
  {
   "cell_type": "code",
   "execution_count": 4,
   "metadata": {},
   "outputs": [
    {
     "name": "stdout",
     "output_type": "stream",
     "text": [
      "Enter Id:    bhargavkm@microsoft.com\n",
      "Company name: microsoft"
     ]
    }
   ],
   "source": [
    "a =input(\"Enter Id:    \")\n",
    "for i in a:\n",
    "    if i == \"@\":\n",
    "        company(a.index(i)+1,a)\n",
    "        "
   ]
  },
  {
   "cell_type": "markdown",
   "metadata": {},
   "source": [
    "## Question-2 :"
   ]
  },
  {
   "cell_type": "code",
   "execution_count": 27,
   "metadata": {},
   "outputs": [
    {
     "name": "stdout",
     "output_type": "stream",
     "text": [
      "Enter the words:    vivo,samsung,apple,yak,dog,film,car,man\n",
      "Words after sorting: apple,car,dog,film,man,samsung,vivo,yak,"
     ]
    }
   ],
   "source": [
    "mylist = input(\"Enter the words:    \").split(\",\")\n",
    "mylist.sort()\n",
    "print(\"Words after sorting: \",end=\"\")\n",
    "type(mylist)\n",
    "for i in mylist:\n",
    "    print(i,end=\",\")"
   ]
  },
  {
   "cell_type": "markdown",
   "metadata": {},
   "source": [
    "## Question-3 :"
   ]
  },
  {
   "cell_type": "markdown",
   "metadata": {},
   "source": [
    "A set is a collection which is unordered and unindexed.                                           \n",
    "In Python sets are written with curly brackets."
   ]
  },
  {
   "cell_type": "code",
   "execution_count": 44,
   "metadata": {},
   "outputs": [
    {
     "name": "stdout",
     "output_type": "stream",
     "text": [
      "{1, 5, 10, 'car', 'apple'}\n",
      "5\n",
      "False\n",
      "{1, 2, 3, 4, 5, 'Ai-Ml', 10, 'apple'}\n",
      "False\n",
      "{1, 5, 10, 'Ai-Ml', 'apple'}\n"
     ]
    }
   ],
   "source": [
    "set1 = {1,\"apple\",\"car\",5,10}\n",
    "set2 = {1,2,3,4,5}\n",
    "print(set1)\n",
    "print(len(set1))\n",
    "set1.add(\"Ai-Ml\")\n",
    "set1.discard(\"car\")\n",
    "print(set1.issubset(set2))\n",
    "print(set1.union(set2))\n",
    "print(set1.isdisjoint(set2))\n",
    "print(set1)"
   ]
  },
  {
   "cell_type": "markdown",
   "metadata": {},
   "source": [
    "## Question-4 :"
   ]
  },
  {
   "cell_type": "code",
   "execution_count": 95,
   "metadata": {},
   "outputs": [
    {
     "name": "stdout",
     "output_type": "stream",
     "text": [
      "Enter the numbers separated by space: 1 2 16 9 8 12 6 4 14\n",
      "Missing numbers are:  3 5 7 10 11 13 15 "
     ]
    }
   ],
   "source": [
    "mylst = input(\"Enter the numbers separated by space: \").split(\" \")\n",
    "k = 0\n",
    "for n in mylst:                #list converting to interger type\n",
    "    if n != \" \":\n",
    "        mylst[k] = int(n)\n",
    "        k += 1\n",
    "print(\"Missing numbers are: \",end=\" \")\n",
    "for i in range(min(mylst),max(mylst)):\n",
    "    if i in mylst:\n",
    "        continue\n",
    "    else:\n",
    "        print(i,end=\" \")"
   ]
  },
  {
   "cell_type": "markdown",
   "metadata": {},
   "source": [
    "## Question-5 :"
   ]
  },
  {
   "cell_type": "code",
   "execution_count": 96,
   "metadata": {},
   "outputs": [
    {
     "name": "stdout",
     "output_type": "stream",
     "text": [
      "Enter the numbers separated by space: 1 100 200 200 2 2 5 30 50 65 421 1 25 5\n",
      "New list:  1 100 200 2 5 30 50 65 421 25 "
     ]
    }
   ],
   "source": [
    "mylist = input(\"Enter the numbers separated by space: \").split(\" \")\n",
    "m = 0\n",
    "for n in mylist:                #list converting to interger type\n",
    "    if n != \" \" :\n",
    "        mylist[m] = int(n)\n",
    "        m =m + 1\n",
    "newlist = []\n",
    "for i in mylist:\n",
    "    if i not in newlist:\n",
    "        newlist.append(i)\n",
    "\n",
    "mylist = newlist\n",
    "print(\"New list: \",end=\" \")\n",
    "for z in mylist:\n",
    "    print(z,end=\" \")"
   ]
  }
 ],
 "metadata": {
  "kernelspec": {
   "display_name": "Python 3",
   "language": "python",
   "name": "python3"
  },
  "language_info": {
   "codemirror_mode": {
    "name": "ipython",
    "version": 3
   },
   "file_extension": ".py",
   "mimetype": "text/x-python",
   "name": "python",
   "nbconvert_exporter": "python",
   "pygments_lexer": "ipython3",
   "version": "3.7.6"
  }
 },
 "nbformat": 4,
 "nbformat_minor": 4
}
