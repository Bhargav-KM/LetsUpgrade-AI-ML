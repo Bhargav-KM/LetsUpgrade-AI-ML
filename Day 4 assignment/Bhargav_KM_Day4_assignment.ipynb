{
 "cells": [
  {
   "cell_type": "markdown",
   "metadata": {},
   "source": [
    "# Day-4 Assignments :-"
   ]
  },
  {
   "cell_type": "markdown",
   "metadata": {},
   "source": [
    "## Question-1 :"
   ]
  },
  {
   "cell_type": "markdown",
   "metadata": {},
   "source": [
    " Addition, Subtraction, Multiplication and Division can be performed on Complex numbers.              \n",
    " But Floor division and Modulo operations cannot be performed on Complex numbers."
   ]
  },
  {
   "cell_type": "code",
   "execution_count": 11,
   "metadata": {},
   "outputs": [
    {
     "name": "stdout",
     "output_type": "stream",
     "text": [
      "Addition is: (15-1j) \n",
      "Subtraction is: (-5+7j) \n",
      "Multiplication is: (62+10j) \n",
      "Division is: (0.3275862068965517+0.4310344827586207j)\n"
     ]
    }
   ],
   "source": [
    "num1 = 5 + 3j\n",
    "num2 = 10 - 4j\n",
    "print(\"Addition is:\",num1 + num2,\"\\nSubtraction is:\",num1 - num2,\"\\nMultiplication is:\",num1*num2,\"\\nDivision is:\",num1 / num2)"
   ]
  },
  {
   "cell_type": "markdown",
   "metadata": {},
   "source": [
    "## Question-2 :"
   ]
  },
  {
   "cell_type": "markdown",
   "metadata": {},
   "source": [
    "range() can be called in 3 different ways :-          \n",
    "range(5) : It refers to the numbers from 0 to 4 . By default the starting value is 0.       \n",
    "range(15,50) : It refers tonthe numbers from 15 to 49         \n",
    "range(0,20,5) : It refers to the numbers  0, 5, 10, 15 only. The last parameter is called step_size."
   ]
  },
  {
   "cell_type": "code",
   "execution_count": 26,
   "metadata": {},
   "outputs": [
    {
     "name": "stdout",
     "output_type": "stream",
     "text": [
      "100\n",
      "101\n",
      "102\n",
      "103\n",
      "104\n",
      "105\n"
     ]
    }
   ],
   "source": [
    "for value in range(6):\n",
    "    print(value + 100)"
   ]
  },
  {
   "cell_type": "code",
   "execution_count": 33,
   "metadata": {},
   "outputs": [
    {
     "name": "stdout",
     "output_type": "stream",
     "text": [
      "1\n",
      "2\n",
      "3\n",
      "4\n",
      "5\n"
     ]
    }
   ],
   "source": [
    "for key in range(10,15):\n",
    "    print(key - 9)"
   ]
  },
  {
   "cell_type": "code",
   "execution_count": 36,
   "metadata": {},
   "outputs": [
    {
     "name": "stdout",
     "output_type": "stream",
     "text": [
      "100\n",
      "200\n",
      "300\n",
      "400\n",
      "500\n"
     ]
    }
   ],
   "source": [
    "for z in range(100,600,100):\n",
    "    print(z)"
   ]
  },
  {
   "cell_type": "markdown",
   "metadata": {},
   "source": [
    "## Question-3 :"
   ]
  },
  {
   "cell_type": "code",
   "execution_count": 46,
   "metadata": {},
   "outputs": [
    {
     "name": "stdout",
     "output_type": "stream",
     "text": [
      "Multiplication result is:  20000\n"
     ]
    }
   ],
   "source": [
    "A = 200\n",
    "B = 100\n",
    "result = A -B\n",
    "if result > 25 :\n",
    "    print(\"Multiplication result is: \",A * B)\n",
    "else :\n",
    "    print(\"Division result is \",A / B)"
   ]
  },
  {
   "cell_type": "markdown",
   "metadata": {},
   "source": [
    "## Question-4 :"
   ]
  },
  {
   "cell_type": "code",
   "execution_count": 47,
   "metadata": {},
   "outputs": [
    {
     "name": "stdout",
     "output_type": "stream",
     "text": [
      "14\n",
      "34\n",
      "62\n",
      "98\n",
      "398\n",
      "482\n"
     ]
    }
   ],
   "source": [
    "mylist = [4,6,7,8,10,15,20,21,22,23]\n",
    "for value in mylist:\n",
    "    if value % 2 == 0:\n",
    "        print(value**2 - 2)"
   ]
  },
  {
   "cell_type": "markdown",
   "metadata": {},
   "source": [
    "## Question-5 :"
   ]
  },
  {
   "cell_type": "code",
   "execution_count": 51,
   "metadata": {},
   "outputs": [
    {
     "name": "stdout",
     "output_type": "stream",
     "text": [
      "20\n",
      "15\n",
      "35\n",
      "25\n",
      "50\n",
      "45\n"
     ]
    }
   ],
   "source": [
    "Mylist = [10,20,15,3,35,25,50,45,4,5]\n",
    "for i in Mylist:\n",
    "    if (i / 2) > 7:\n",
    "        print(i)"
   ]
  }
 ],
 "metadata": {
  "kernelspec": {
   "display_name": "Python 3",
   "language": "python",
   "name": "python3"
  },
  "language_info": {
   "codemirror_mode": {
    "name": "ipython",
    "version": 3
   },
   "file_extension": ".py",
   "mimetype": "text/x-python",
   "name": "python",
   "nbconvert_exporter": "python",
   "pygments_lexer": "ipython3",
   "version": "3.7.6"
  }
 },
 "nbformat": 4,
 "nbformat_minor": 4
}
