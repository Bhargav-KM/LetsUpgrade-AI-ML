{
 "cells": [
  {
   "cell_type": "markdown",
   "metadata": {},
   "source": [
    "# Day-15 Assignment:"
   ]
  },
  {
   "cell_type": "code",
   "execution_count": 1,
   "metadata": {},
   "outputs": [],
   "source": [
    "import numpy as np"
   ]
  },
  {
   "cell_type": "code",
   "execution_count": 2,
   "metadata": {},
   "outputs": [],
   "source": [
    "from numpy import array"
   ]
  },
  {
   "cell_type": "markdown",
   "metadata": {},
   "source": [
    "## 1. Create a 3x3x3 array with random values"
   ]
  },
  {
   "cell_type": "code",
   "execution_count": 3,
   "metadata": {},
   "outputs": [
    {
     "name": "stdout",
     "output_type": "stream",
     "text": [
      "[[[4.67296746e-307 1.69121096e-306 7.56595733e-307]\n",
      "  [1.95819673e-306 7.56599807e-307 8.90104239e-307]\n",
      "  [1.24610383e-306 1.69118108e-306 8.06632139e-308]]\n",
      "\n",
      " [[1.20160711e-306 1.69119330e-306 1.29062229e-306]\n",
      "  [1.60217812e-306 1.37961370e-306 8.01091099e-307]\n",
      "  [1.02359848e-306 1.60219035e-306 1.60220393e-306]]\n",
      "\n",
      " [[1.05700515e-307 1.11261774e-306 1.29060871e-306]\n",
      "  [8.34424766e-308 8.34445138e-308 1.37959129e-306]\n",
      "  [1.02360528e-306 9.79103797e-307 2.46155235e-312]]]\n",
      "Shape =  (3, 3, 3)\n"
     ]
    }
   ],
   "source": [
    "arr1 = np.empty([3,3,3])\n",
    "print(arr1)\n",
    "print(\"Shape = \",arr1.shape)"
   ]
  },
  {
   "cell_type": "markdown",
   "metadata": {},
   "source": [
    "## 2.Create a 5x5 matrix with values 1,2,3,4 just below the diagonal"
   ]
  },
  {
   "cell_type": "code",
   "execution_count": 4,
   "metadata": {},
   "outputs": [
    {
     "name": "stdout",
     "output_type": "stream",
     "text": [
      "[[0. 0. 0. 0. 0.]\n",
      " [1. 0. 0. 0. 0.]\n",
      " [0. 2. 0. 0. 0.]\n",
      " [0. 0. 3. 0. 0.]\n",
      " [0. 0. 0. 4. 0.]]\n"
     ]
    }
   ],
   "source": [
    "x = np.zeros([5,5])\n",
    "x[1][0] = 1\n",
    "x[2][1] = 2\n",
    "x[3][2] = 3\n",
    "x[4][3] = 4\n",
    "print(x)"
   ]
  },
  {
   "cell_type": "markdown",
   "metadata": {},
   "source": [
    "## 3.Create a 8x8 matrix and fill it with a checkerboard pattern"
   ]
  },
  {
   "cell_type": "code",
   "execution_count": 5,
   "metadata": {},
   "outputs": [
    {
     "name": "stdout",
     "output_type": "stream",
     "text": [
      "[[1 0 1 0 8 0 8 0]\n",
      " [0 3 0 4 0 8 0 2]\n",
      " [3 0 3 0 2 0 2 0]\n",
      " [0 7 0 9 0 6 0 1]\n",
      " [1 0 4 0 7 0 9 0]\n",
      " [0 2 0 2 0 5 0 8]\n",
      " [3 0 4 0 5 0 1 0]\n",
      " [0 9 0 5 0 4 0 8]]\n"
     ]
    }
   ],
   "source": [
    "import random\n",
    "arr2 = np.zeros([8,8],dtype = int)\n",
    "num = 1\n",
    "for i in range(0,8):\n",
    "    for j in range(0,8,2):\n",
    "        if(i%2 == 0):\n",
    "            arr2[i][j] = num\n",
    "        else:\n",
    "            arr2[i][j+1] = num\n",
    "        num = random.randint(1,9)\n",
    "print(arr2)"
   ]
  },
  {
   "cell_type": "markdown",
   "metadata": {},
   "source": [
    "## 4. Normalize a 5x5 random matrix"
   ]
  },
  {
   "cell_type": "code",
   "execution_count": 6,
   "metadata": {},
   "outputs": [
    {
     "name": "stdout",
     "output_type": "stream",
     "text": [
      "Matrix before : \n",
      "[[0.47545417 0.73906334 0.21018873 0.58327294 0.60636611]\n",
      " [0.80798939 0.75563952 0.33933253 0.08381875 0.84804437]\n",
      " [0.8386547  0.40404455 0.43084177 0.89091044 0.53866504]\n",
      " [0.06025865 0.36186572 0.21373072 0.44161663 0.14615332]\n",
      " [0.16204189 0.97286152 0.74670549 0.30322213 0.26308379]]\n",
      "Matrix After normalization : \n",
      "[[0.4549575  0.7438117  0.16428842 0.57310173 0.59840646]\n",
      " [0.81933858 0.76197532 0.30579991 0.02581638 0.86322949]\n",
      " [0.85294061 0.3767092  0.40607271 0.91020072 0.52422188]\n",
      " [0.         0.33049104 0.16816961 0.41787944 0.09412054]\n",
      " [0.11153071 1.         0.75218571 0.26623134 0.22224907]]\n"
     ]
    }
   ],
   "source": [
    "arr4 = np.random.random((5,5))\n",
    "print(\"Matrix before : \")\n",
    "print(arr4)\n",
    "normalized_mat = (arr4 - np.min(arr4))/np.ptp(arr4)\n",
    "print(\"Matrix After normalization : \")\n",
    "print(normalized_mat)"
   ]
  },
  {
   "cell_type": "markdown",
   "metadata": {},
   "source": [
    "## 5. How to find common values between two arrays?"
   ]
  },
  {
   "cell_type": "markdown",
   "metadata": {},
   "source": [
    "##### -Common values can be found using numpy function - np.intersect1d(array1,array2) "
   ]
  },
  {
   "cell_type": "code",
   "execution_count": 15,
   "metadata": {},
   "outputs": [
    {
     "name": "stdout",
     "output_type": "stream",
     "text": [
      "Array1 :\n",
      "[[ 1  2  3]\n",
      " [20 25 30]\n",
      " [15 10 37]]\n",
      "Array2 :\n",
      "[[ 1  5 20]\n",
      " [ 7  8 37]\n",
      " [ 4  6 10]]\n",
      "Common values between these two :\n",
      "[ 1 10 20 37]\n"
     ]
    }
   ],
   "source": [
    "a1 = array([[1,2,3],[20,25,30],[15,10,37]])\n",
    "a2 = array([[1,5,20],[7,8,37],[4,6,10]])\n",
    "print(\"Array1 :\")\n",
    "print(a1)\n",
    "print(\"Array2 :\")\n",
    "print(a2)\n",
    "print(\"Common values between these two :\")\n",
    "print(np.intersect1d(a1,a2))"
   ]
  },
  {
   "cell_type": "markdown",
   "metadata": {},
   "source": [
    "## 6.How to get the dates of yesterday, today and tomorrow?"
   ]
  },
  {
   "cell_type": "markdown",
   "metadata": {},
   "source": [
    "##### 1). To get todays date we use  : np.datetime64('today', 'D')                                          \n",
    "##### 2). For yesterday's date we subtract today by 1 day using : np.timedelta64(1, 'D')                   \n",
    "##### 3). For tomorrow's date we add today by 1 day using : np.timedelta64(1, 'D')                   "
   ]
  },
  {
   "cell_type": "code",
   "execution_count": 29,
   "metadata": {},
   "outputs": [
    {
     "name": "stdout",
     "output_type": "stream",
     "text": [
      "Yestraday:  2020-07-24\n",
      "Today:  2020-07-25\n",
      "Tomorrow:  2020-07-26\n"
     ]
    }
   ],
   "source": [
    "yesterday = np.datetime64('today', 'D') - np.timedelta64(1, 'D')\n",
    "print(\"Yestraday: \",yesterday)\n",
    "today     = np.datetime64('today', 'D')\n",
    "print(\"Today: \",today)\n",
    "tomorrow  = np.datetime64('today', 'D') + np.timedelta64(1, 'D')\n",
    "print(\"Tomorrow: \",tomorrow)"
   ]
  },
  {
   "cell_type": "markdown",
   "metadata": {},
   "source": [
    "## 7. Consider two random array A and B, check if they are equal"
   ]
  },
  {
   "cell_type": "code",
   "execution_count": 34,
   "metadata": {},
   "outputs": [
    {
     "name": "stdout",
     "output_type": "stream",
     "text": [
      "A :\n",
      "[[10 20]\n",
      " [15 37]\n",
      " [25 50]]\n",
      "B :\n",
      "[[10 30]\n",
      " [30 37]\n",
      " [45 50]]\n",
      "Comparision :\n",
      "[[ True False]\n",
      " [False  True]\n",
      " [False  True]]\n"
     ]
    }
   ],
   "source": [
    "A = array([[10,20],[15,37],[25,50]])\n",
    "B = array([[10,30],[30,37],[45,50]])\n",
    "print(\"A :\")\n",
    "print(A)\n",
    "print(\"B :\")\n",
    "print(B)\n",
    "print(\"Comparision :\")\n",
    "print(A == B)"
   ]
  },
  {
   "cell_type": "markdown",
   "metadata": {},
   "source": [
    "## 8.Create random vector of size 10 and replace the maximum value by 0"
   ]
  },
  {
   "cell_type": "code",
   "execution_count": 56,
   "metadata": {},
   "outputs": [
    {
     "name": "stdout",
     "output_type": "stream",
     "text": [
      "Initial vector :\n",
      "[10 30 30  0 45 50] \n",
      "\n",
      "After replacing :\n",
      "[10 30 30  0 45  0]\n"
     ]
    }
   ],
   "source": [
    "vect = np.empty(6,dtype = int)\n",
    "print(\"Initial vector :\")\n",
    "print(vect,\"\\n\")\n",
    "place = np.where(vect == vect.max())\n",
    "vect[place] = 0 \n",
    "print(\"After replacing :\")\n",
    "print(vect)"
   ]
  },
  {
   "cell_type": "markdown",
   "metadata": {},
   "source": [
    "## 9. How to print all the values of an array?"
   ]
  },
  {
   "cell_type": "markdown",
   "metadata": {},
   "source": [
    "##### -By using nested for loop."
   ]
  },
  {
   "cell_type": "code",
   "execution_count": 65,
   "metadata": {},
   "outputs": [
    {
     "name": "stdout",
     "output_type": "stream",
     "text": [
      "1   2   3   4   5   6   7   8   9   "
     ]
    }
   ],
   "source": [
    "new_array = array([[1,2,3],[4,5,6],[7,8,9]])\n",
    "for i in new_array:\n",
    "    for j in i:\n",
    "        print(j,end=\"   \")"
   ]
  },
  {
   "cell_type": "markdown",
   "metadata": {},
   "source": [
    "## 10.Subtract the mean of each row of a matrix"
   ]
  },
  {
   "cell_type": "code",
   "execution_count": 93,
   "metadata": {},
   "outputs": [
    {
     "name": "stdout",
     "output_type": "stream",
     "text": [
      "Initial array :\n",
      "[[1 2 3]\n",
      " [4 5 6]\n",
      " [7 8 9]]\n",
      "After subtraction :\n",
      "[[-1. -3. -5.]\n",
      " [ 2.  0. -2.]\n",
      " [ 5.  3.  1.]]\n"
     ]
    }
   ],
   "source": [
    "arry7 = array([[1,2,3],[4,5,6],[7,8,9]])\n",
    "print(\"Initial array :\")\n",
    "print(arry7)\n",
    "SUB_arry = arry7 - arry7.mean(axis=1) \n",
    "print(\"After subtraction :\")\n",
    "print(SUB_arry)"
   ]
  },
  {
   "cell_type": "markdown",
   "metadata": {},
   "source": [
    "## 11.Consider a given vector, how to add 1 to each element indexed by a second vector (be careful with repeated indices)?"
   ]
  },
  {
   "cell_type": "code",
   "execution_count": 101,
   "metadata": {},
   "outputs": [
    {
     "name": "stdout",
     "output_type": "stream",
     "text": [
      "Original vector : \n",
      "[10 20 30 40 50 60 70 80 90 10] \n",
      "\n",
      "After adding 1 to given indices :\n",
      "[11 20 30 40 50 60 71 80 91 10]\n"
     ]
    }
   ],
   "source": [
    "vet1 = array([10,20,30,40,50,60,70,80,90,10])\n",
    "print(\"Original vector : \")\n",
    "print(vet1,\"\\n\")\n",
    "vet2 = array([0,6,8,6])                  #given indices   in vetor 2\n",
    "\n",
    "for i in np.unique(vet2):                #iterate only on unique indices to avoid multiple time addition\n",
    "    vet1[i] = vet1[i] + 1\n",
    "    \n",
    "    \n",
    "print(\"After adding 1 to given indices :\")\n",
    "print(vet1)"
   ]
  },
  {
   "cell_type": "markdown",
   "metadata": {},
   "source": [
    "## 12.How to get the diagonal of a dot product?"
   ]
  },
  {
   "cell_type": "markdown",
   "metadata": {},
   "source": [
    "##### -To find dot product use - numpy.dot(array1,array2)\n",
    "##### -diagonal can be obtained by using  -numpy.diagonal(array)"
   ]
  },
  {
   "cell_type": "code",
   "execution_count": 113,
   "metadata": {},
   "outputs": [
    {
     "name": "stdout",
     "output_type": "stream",
     "text": [
      "Dot product = \n",
      "[[ 32  16  29]\n",
      " [ 58  37  51]\n",
      " [102  61  89]] \n",
      "\n",
      "\n",
      "Diagonal of dot product = \n",
      "[32 37 89]\n"
     ]
    }
   ],
   "source": [
    "v1 = array([[1,2,3],[4,5,4],[6,7,8]])\n",
    "v2 = array([[4,5,2],[2,1,3],[8,3,7]])\n",
    "dotP = np.dot(v1,v2)\n",
    "print(\"Dot product = \")\n",
    "print(dotP,\"\\n\\n\")\n",
    "print(\"Diagonal of dot product = \")\n",
    "print(np.diagonal(dotP))\n"
   ]
  },
  {
   "cell_type": "markdown",
   "metadata": {},
   "source": [
    "## 13.How to find the most frequent value in an array?"
   ]
  },
  {
   "cell_type": "markdown",
   "metadata": {},
   "source": [
    "##### -by using the function of numpy - np.bincount(array).argmax()"
   ]
  },
  {
   "cell_type": "code",
   "execution_count": 125,
   "metadata": {},
   "outputs": [
    {
     "name": "stdout",
     "output_type": "stream",
     "text": [
      "Most frequent value =   37\n"
     ]
    }
   ],
   "source": [
    "my_arry = array([60,80,37,25,37,40,37,26,32])\n",
    "freq = np.bincount(my_arry).argmax()\n",
    "print(\"Most frequent value =  \",freq)"
   ]
  },
  {
   "cell_type": "markdown",
   "metadata": {},
   "source": [
    "## 14.How to get the n largest values of an array"
   ]
  },
  {
   "cell_type": "code",
   "execution_count": 147,
   "metadata": {},
   "outputs": [
    {
     "name": "stdout",
     "output_type": "stream",
     "text": [
      "Given array :\n",
      "[ 10 100   8  50  25  37  40  80 100 101  15  14   4] \n",
      "\n",
      "Enter the n value : 2\n",
      "\n",
      "The 2 largest values of given array are :\n",
      "[100 101]\n"
     ]
    }
   ],
   "source": [
    "ww = array([10,100,8,50,25,37,40,80,100,101,15,14,4])\n",
    "print(\"Given array :\")\n",
    "print(ww,\"\\n\")\n",
    "new = np.unique(ww)\n",
    "new1 = np.sort(new)\n",
    "n = int(input(\"Enter the n value : \"))\n",
    "print(\"\\nThe\",n,\"largest values of given array are :\")\n",
    "print(new1[-n:])"
   ]
  },
  {
   "cell_type": "markdown",
   "metadata": {},
   "source": [
    "## 15.How to create a record array from a regular array?"
   ]
  },
  {
   "cell_type": "markdown",
   "metadata": {},
   "source": [
    "##### -By using - np.core.records.fromarrays([arrays],names=' ')"
   ]
  },
  {
   "cell_type": "code",
   "execution_count": 151,
   "metadata": {},
   "outputs": [
    {
     "name": "stdout",
     "output_type": "stream",
     "text": [
      "Array1 =  [1 2 3 4] \n",
      "Array2 =  ['Apple' 'Orange' 'PineApple' 'Watermelon'] \n",
      "Array3 =  [2 5 1 3]\n",
      "\n",
      "\n",
      "Recorded Array =  [(1, 'Apple', 2) (2, 'Orange', 5) (3, 'PineApple', 1) (4, 'Watermelon', 3)]\n"
     ]
    }
   ],
   "source": [
    "Ar1 = array([1,2,3,4])\n",
    "Ar2 = array(['Apple','Orange','PineApple','Watermelon'])\n",
    "Ar3 = array([2,5,1,3])\n",
    "print(\"Array1 = \",Ar1,\"\\nArray2 = \",Ar2,\"\\nArray3 = \",Ar3)\n",
    "Record_arry = np.core.records.fromarrays([Ar1,Ar2,Ar3])\n",
    "print(\"\\n\\nRecorded Array = \",Record_arry)\n"
   ]
  },
  {
   "cell_type": "code",
   "execution_count": null,
   "metadata": {},
   "outputs": [],
   "source": []
  },
  {
   "cell_type": "markdown",
   "metadata": {},
   "source": [
    "## ----------------------------------------------------------------------------------------------------------------------------------"
   ]
  }
 ],
 "metadata": {
  "kernelspec": {
   "display_name": "Python 3",
   "language": "python",
   "name": "python3"
  },
  "language_info": {
   "codemirror_mode": {
    "name": "ipython",
    "version": 3
   },
   "file_extension": ".py",
   "mimetype": "text/x-python",
   "name": "python",
   "nbconvert_exporter": "python",
   "pygments_lexer": "ipython3",
   "version": "3.7.6"
  }
 },
 "nbformat": 4,
 "nbformat_minor": 4
}
